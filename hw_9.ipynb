{
 "cells": [
  {
   "cell_type": "code",
   "execution_count": 3,
   "metadata": {},
   "outputs": [
    {
     "name": "stdout",
     "output_type": "stream",
     "text": [
      "false\n"
     ]
    }
   ],
   "source": [
    "# 1 is_prime() funksiyasini hosil qiling(n>0). Agar n soni tub bo'lsa true, aks holda false qaytarsin\n",
    "def is_prime(n):\n",
    "    if n > 0 and n%2==1:\n",
    "        print('true')\n",
    "    elif n>0 and n%2==0:\n",
    "        print('false')\n",
    "\n",
    "is_prime(4)"
   ]
  },
  {
   "cell_type": "code",
   "execution_count": 5,
   "metadata": {},
   "outputs": [
    {
     "data": {
      "text/plain": [
       "8"
      ]
     },
     "execution_count": 5,
     "metadata": {},
     "output_type": "execute_result"
    }
   ],
   "source": [
    "# k sonining raqamlar yig'indisini hisoblovchi digit_sum(k) rekursiv funksiya tuzing\n",
    "def digit_sum(k):\n",
    "    sum = 0\n",
    "    for digit in str(k): \n",
    "      sum += int(digit)      \n",
    "    return sum\n",
    "\n",
    "digit_sum(44)"
   ]
  },
  {
   "cell_type": "code",
   "execution_count": 16,
   "metadata": {},
   "outputs": [
    {
     "name": "stdout",
     "output_type": "stream",
     "text": [
      "2\n",
      "4\n",
      "8\n",
      "16\n"
     ]
    }
   ],
   "source": [
    "# It is required to print all integer powers of two (that is, numbers of the form 2**k)\n",
    "# that don't exceed the number N\n",
    "def power_of_two(N):\n",
    "    k = 1\n",
    "    power_of_two = 2\n",
    "\n",
    "    while power_of_two < N:\n",
    "        print(power_of_two)\n",
    "        k += 1\n",
    "        power_of_two = 2 ** k\n",
    "\n",
    "power_of_two(32)\n"
   ]
  },
  {
   "cell_type": "code",
   "execution_count": null,
   "metadata": {},
   "outputs": [],
   "source": []
  },
  {
   "cell_type": "code",
   "execution_count": null,
   "metadata": {},
   "outputs": [],
   "source": []
  },
  {
   "cell_type": "code",
   "execution_count": null,
   "metadata": {},
   "outputs": [],
   "source": []
  }
 ],
 "metadata": {
  "kernelspec": {
   "display_name": "Python 3",
   "language": "python",
   "name": "python3"
  },
  "language_info": {
   "codemirror_mode": {
    "name": "ipython",
    "version": 3
   },
   "file_extension": ".py",
   "mimetype": "text/x-python",
   "name": "python",
   "nbconvert_exporter": "python",
   "pygments_lexer": "ipython3",
   "version": "3.11.9"
  }
 },
 "nbformat": 4,
 "nbformat_minor": 2
}
