{
 "cells": [
  {
   "cell_type": "code",
   "execution_count": 12,
   "metadata": {},
   "outputs": [
    {
     "name": "stdout",
     "output_type": "stream",
     "text": [
      "Name: Alice Smith, Age: 15, Grade: 10\n",
      "Name: Bob Johnson, Age: 16, Grade: 11\n",
      "Name: Charlie Davis, Age: 14, Grade: 9\n"
     ]
    }
   ],
   "source": [
    "import json\n",
    "\n",
    "with open(\"students.json\", \"r\", encoding=\"utf-8\") as file:\n",
    "    data = json.load(file)\n",
    "\n",
    "for student in data['students']:\n",
    "    print(f\"Name: {student['name']}, Age: {student['age']}, Grade: {student['grade']}\")\n"
   ]
  },
  {
   "cell_type": "code",
   "execution_count": null,
   "metadata": {},
   "outputs": [
    {
     "name": "stdout",
     "output_type": "stream",
     "text": [
      "<Response [200]>\n",
      "City: Tashkent\n",
      "Temperature: 4.25°C\n",
      "Humidity: 82%\n",
      "Weather: overcast clouds\n"
     ]
    }
   ],
   "source": [
    "import requests\n",
    "\n",
    "API_KEY = \"4189995a68b9889233d7a2711b8243cb\"  \n",
    "CITY = \"Tashkent\"\n",
    "URL = f\"https://api.openweathermap.org/data/2.5/weather?q={CITY}&appid={API_KEY}&units=metric\"\n",
    "\n",
    "response = requests.get(URL)\n",
    "print(response)\n",
    "weather_data = response.json()\n",
    "\n",
    "if response.status_code == 200:\n",
    "    print(f\"City: {weather_data['name']}\")\n",
    "    print(f\"Temperature: {weather_data['main']['temp']}°C\")\n",
    "    print(f\"Humidity: {weather_data['main']['humidity']}%\")\n",
    "    print(f\"Weather: {weather_data['weather'][0]['description']}\")\n",
    "else:\n",
    "    print(\"Error fetching weather data:\", weather_data)\n"
   ]
  },
  {
   "cell_type": "code",
   "execution_count": null,
   "metadata": {},
   "outputs": [],
   "source": []
  },
  {
   "cell_type": "code",
   "execution_count": null,
   "metadata": {},
   "outputs": [],
   "source": []
  },
  {
   "cell_type": "code",
   "execution_count": null,
   "metadata": {},
   "outputs": [],
   "source": []
  }
 ],
 "metadata": {
  "kernelspec": {
   "display_name": "Python 3",
   "language": "python",
   "name": "python3"
  },
  "language_info": {
   "codemirror_mode": {
    "name": "ipython",
    "version": 3
   },
   "file_extension": ".py",
   "mimetype": "text/x-python",
   "name": "python",
   "nbconvert_exporter": "python",
   "pygments_lexer": "ipython3",
   "version": "3.13.2"
  }
 },
 "nbformat": 4,
 "nbformat_minor": 2
}
